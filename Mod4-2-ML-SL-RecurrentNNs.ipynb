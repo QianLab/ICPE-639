{
 "cells": [
  {
   "cell_type": "markdown",
   "metadata": {
    "id": "Ji-lASE7BLUo"
   },
   "source": [
    "\n",
    "# <font color=#770000>ICPE 639 Introduction to Machine Learning </font>\n",
    "\n",
    "## ------ With Energy Applications\n",
    "\n",
    "Some of the examples and exercises of this course are based on several books as well as open-access materials on machine learning, including [Hands-on Machine Learning with Scikit-Learn, Keras and TensorFlow](https://www.oreilly.com/library/view/hands-on-machine-learning/9781492032632/)\n",
    "\n",
    "\n",
    "<p> &#169; 2021: Xiaoning Qian </p>\n",
    "\n",
    "[Homepage](http://xqian37.github.io/)\n",
    "\n",
    "**<font color=blue>[Note]</font>** This is currently a work in progress, will be updated as the material is tested in the class room.\n",
    "\n",
    "All material open source under a Creative Commons license and free for use in non-commercial applications.\n",
    "\n",
    "Source material used under the Creative Commons Attribution-NonCommercial 3.0 Unported License. To view a copy of this license, visit http://creativecommons.org/licenses/by-nc/3.0/ or send a letter to Creative Commons, PO Box 1866, Mountain View, CA 94042, USA."
   ]
  },
  {
   "cell_type": "markdown",
   "metadata": {
    "id": "h8CLzQygBLUt"
   },
   "source": [
    "# Deep Neural Networks (DNNs)\n",
    "\n",
    "<font color=red>need to work on this more!!! RNN, examples, etc... </font>\n",
    "\n",
    "Here we first provide a brief overview of existing deep neural networks and then focus on Recurrent Neural Networks (RNNs). This section will cover the content listed below: \n",
    "\n",
    "- [1 Deep Neural Networks](#1-Deep-Neural-Networks)\n",
    "- [2 Recurrent Neural Networks](#2-Recurrent-Neural-Networks)\n",
    "- [3 Hands-on Exercise](#3-Hands-on-Exercise)\n",
    "- [Reference](#Reference) \n",
    "\n"
   ]
  },
  {
   "cell_type": "code",
   "execution_count": null,
   "metadata": {
    "colab": {
     "base_uri": "https://localhost:8080/"
    },
    "executionInfo": {
     "elapsed": 1120,
     "status": "ok",
     "timestamp": 1626890077864,
     "user": {
      "displayName": "Xiaoning Qian",
      "photoUrl": "",
      "userId": "06431978792501680815"
     },
     "user_tz": 300
    },
    "id": "P78hJOpbBLUu",
    "outputId": "229211fb-64d7-4618-e38c-6bbd85ff997c"
   },
   "outputs": [
    {
     "name": "stderr",
     "output_type": "stream",
     "text": [
      "/usr/local/lib/python3.7/dist-packages/sklearn/externals/six.py:31: FutureWarning: The module is deprecated in version 0.21 and will be removed in version 0.23 since we've dropped support for Python 2.7. Please rely on the official version of six (https://pypi.org/project/six/).\n",
      "  \"(https://pypi.org/project/six/).\", FutureWarning)\n"
     ]
    }
   ],
   "source": [
    "# required modules\n",
    "import pandas as pd\n",
    "import numpy as np\n",
    "import matplotlib.pyplot as plt\n",
    "\n",
    "from sklearn.ensemble import AdaBoostClassifier\n",
    "\n",
    "from sklearn.tree import DecisionTreeClassifier, export_graphviz, export_text\n",
    "from sklearn.externals.six import StringIO  \n",
    "import pydot\n",
    "from IPython.display import Image\n",
    "from IPython.core.display import HTML\n",
    "from sklearn.metrics import accuracy_score\n",
    "\n",
    "import seaborn as sns\n",
    "from sklearn import neighbors, datasets\n",
    "from matplotlib.colors import ListedColormap\n",
    "from sklearn.model_selection import train_test_split\n",
    "from sklearn.neighbors import KNeighborsClassifier\n"
   ]
  },
  {
   "cell_type": "markdown",
   "metadata": {
    "id": "CzW3wV_zKTbk"
   },
   "source": [
    "## 1 Deep Neural Networks\n",
    "\n",
    "**Deep Learning** is one family of machine learning models originated from **artificial neural networks** but with enriched topology/architecture to better model dependency given a prediction task and data. \n"
   ]
  },
  {
   "cell_type": "markdown",
   "metadata": {
    "executionInfo": {
     "elapsed": 1294,
     "status": "ok",
     "timestamp": 1616527812431,
     "user": {
      "displayName": "Xiaomeng Yan",
      "photoUrl": "",
      "userId": "11420231255337685715"
     },
     "user_tz": 300
    },
    "id": "agkk34mwfSW1",
    "outputId": "dfc8c64f-d800-428a-a4aa-6b6de7147a9a"
   },
   "source": [
    "### Overview\n",
    "\n",
    "In the previous module, we have briefly reviewed the basics of artificial neural networks, mostly with the architecture of classic **multi-layer perceptrons (MLPs)**, which can be considered as a network of multiple *fully-connected* layers in DNN terms. \n",
    "\n",
    "There have been fast and significant development of DNNs for the past decade. From my personal viewpoint, there are two categories of existing DNNs, **discriminative** and **generative** as in traditional supervised learning. The important generative DNNs include **Variational Auto-Encoders (VAE)** and **Generative Adverserial Networks (GAN)**, which we will not cover in this short course. Many DNNs were started with discriminative tasks, for example, image classification in the famous ImageNet, which often is considered as an important milestone of Deep Learning. There have been many efforts in designing the architecture of DNNs based on the learning task and data of interest (Neural Architecture Search (NAS) or Automated Machine Learning (AutoML)). "
   ]
  },
  {
   "cell_type": "markdown",
   "metadata": {
    "id": "fnfazFD5wcUd"
   },
   "source": [
    "Three most popular deep architectures based on the data dependency structures are: \n",
    "1. **Convolutional Neural Networks (CNN)**\n",
    "2. **Recurrent Neural Networks (RNN)**\n",
    "3. **Graph Neural Networks (GNN)**\n",
    "\n",
    "If you have basic knowledge of these DNNs, CNN basically assumes local spatial dependency (suitable in image analysis and computer vision); RNN assumes temporal/sequential dependency (suitable for time series and sequence analyses, for example Natural Language Processing (NLP)); GNN assumes more general unstructured dependency. \n",
    "\n",
    "<img src=\"https://upload.wikimedia.org/wikipedia/commons/6/63/Typical_cnn.png\" alt=\"CNN\">\n",
    "\n",
    "<center>CNN Schematic</center>"
   ]
  },
  {
   "cell_type": "markdown",
   "metadata": {
    "id": "anS7cba1Ojdq"
   },
   "source": [
    "\n",
    "\n",
    "<img src=\"https://upload.wikimedia.org/wikipedia/commons/thumb/b/b5/Recurrent_neural_network_unfold.svg/2880px-Recurrent_neural_network_unfold.svg.png\" alt=\"RNN\">\n",
    "\n",
    "<center>RNN Schematic with Unrolling/Unfolding</center>\n",
    "\n",
    "\n",
    "\n",
    "<img src=\"https://upload.wikimedia.org/wikipedia/commons/thumb/5/5f/Gated_Recurrent_Unit.svg/2880px-Gated_Recurrent_Unit.svg.png\" alt=\"GRU\">\n",
    "\n",
    "<center>Gated Recurrent Unit (GRU) is one of RNN models</center>\n",
    "\n",
    "\n",
    "<img src=\"https://upload.wikimedia.org/wikipedia/commons/thumb/6/63/Long_Short-Term_Memory.svg/2880px-Long_Short-Term_Memory.svg.png\" alt=\"GRU\">\n",
    "\n",
    "<center>Long Short-Term Memory  (LSTM) is another RNN model</center>"
   ]
  },
  {
   "cell_type": "markdown",
   "metadata": {
    "id": "_2qOfiKsPXvP"
   },
   "source": [
    "\n",
    "<img src=\"https://tkipf.github.io/graph-convolutional-networks/images/gcn_web.png\" alt=\"RNN\">\n",
    "\n",
    "<center>GNN Schematic</center>\n",
    "\n",
    "\n",
    "We will showcase RNNs as it may have more applications in energy. Although these different DNNs have corresponding learning strategies and tricks but they do share the same underlying principles, for example, model inference based on backpropagation as introduced earlier. If needed (for example, when integrating different data types), you can use multiple architectures in one model. \n"
   ]
  },
  {
   "cell_type": "markdown",
   "metadata": {
    "id": "hW7sE500KdST"
   },
   "source": [
    "#### A simple example <font color=red>need to get one, for example, for simple cnn? </font>\n"
   ]
  },
  {
   "cell_type": "code",
   "execution_count": null,
   "metadata": {
    "colab": {
     "base_uri": "https://localhost:8080/"
    },
    "executionInfo": {
     "elapsed": 106,
     "status": "ok",
     "timestamp": 1623782083304,
     "user": {
      "displayName": "Xiaoning Qian",
      "photoUrl": "",
      "userId": "06431978792501680815"
     },
     "user_tz": 300
    },
    "id": "zRIFOwDsidt7",
    "outputId": "ee5d9d00-5d97-4c4e-a878-567c20fdf904"
   },
   "outputs": [
    {
     "name": "stdout",
     "output_type": "stream",
     "text": [
      "[ 2.  3. 13.]\n"
     ]
    }
   ],
   "source": [
    "X = np.array([\n",
    "    [-2,4,-1],\n",
    "    [4,1,-1],\n",
    "    [1, 6, -1],\n",
    "    [2, 4, -1],\n",
    "    [6, 2, -1],\n",
    "\n",
    "])\n",
    "\n",
    "y = np.array([-1,-1,1,1,1])\n",
    "\n",
    "def perceptron_sgd(X, Y):\n",
    "    w = np.zeros(len(X[0]))  # initialize to 0's\n",
    "    eta = 1                  # learning rate\n",
    "    epochs = 20              # number of iterations\n",
    "\n",
    "    for t in range(epochs):\n",
    "        for i, x in enumerate(X):\n",
    "            if (np.dot(X[i], w)*Y[i]) <= 0:\n",
    "                w = w + eta*X[i]*Y[i]            # update if not correctly classified\n",
    "\n",
    "    return w\n",
    "\n",
    "w = perceptron_sgd(X,y)\n",
    "print(w)"
   ]
  },
  {
   "cell_type": "code",
   "execution_count": null,
   "metadata": {
    "colab": {
     "base_uri": "https://localhost:8080/",
     "height": 283
    },
    "executionInfo": {
     "elapsed": 308,
     "status": "ok",
     "timestamp": 1623782086353,
     "user": {
      "displayName": "Xiaoning Qian",
      "photoUrl": "",
      "userId": "06431978792501680815"
     },
     "user_tz": 300
    },
    "id": "JHerhFCOijnp",
    "outputId": "ab41418a-be11-4017-b42f-7dd09578050b"
   },
   "outputs": [
    {
     "data": {
      "text/plain": [
       "[<matplotlib.lines.Line2D at 0x7fc72a381ad0>]"
      ]
     },
     "execution_count": 32,
     "metadata": {
      "tags": []
     },
     "output_type": "execute_result"
    },
    {
     "data": {
      "image/png": "[encoded data removed]",
      "text/plain": [
       "<Figure size 432x288 with 1 Axes>"
      ]
     },
     "metadata": {
      "needs_background": "light",
      "tags": []
     },
     "output_type": "display_data"
    }
   ],
   "source": [
    "# visualize \n",
    "for d, sample in enumerate(X):\n",
    "    # Plot the negative samples\n",
    "    if d < 2:\n",
    "        plt.scatter(sample[0], sample[1], s=120, c=\"r\",marker='_', linewidths=2)\n",
    "    # Plot the positive samples\n",
    "    else:\n",
    "        plt.scatter(sample[0], sample[1], s=120, c=\"b\", marker='+', linewidths=2)\n",
    "\n",
    "# Print a possible hyperplane, that is seperating the two classes.\n",
    "plt.plot([-2,6],[6,0.5])"
   ]
  },
  {
   "cell_type": "code",
   "execution_count": null,
   "metadata": {
    "colab": {
     "base_uri": "https://localhost:8080/",
     "height": 297
    },
    "executionInfo": {
     "elapsed": 290,
     "status": "ok",
     "timestamp": 1623782088954,
     "user": {
      "displayName": "Xiaoning Qian",
      "photoUrl": "",
      "userId": "06431978792501680815"
     },
     "user_tz": 300
    },
    "id": "WlKMz3h_KjiN",
    "outputId": "10a459d6-b0d2-4fc1-c3e8-f392fd8999f2"
   },
   "outputs": [
    {
     "name": "stdout",
     "output_type": "stream",
     "text": [
      "[ 2.  3. 13.]\n"
     ]
    },
    {
     "data": {
      "image/png": "[encoded data removed]",
      "text/plain": [
       "<Figure size 432x288 with 1 Axes>"
      ]
     },
     "metadata": {
      "needs_background": "light",
      "tags": []
     },
     "output_type": "display_data"
    }
   ],
   "source": [
    "# visualize the training procedure\n",
    "def perceptron_sgd_plot(X, Y):\n",
    "    '''\n",
    "    train perceptron and plot the total loss in each epoch.\n",
    "    \n",
    "    :param X: data samples\n",
    "    :param Y: data labels\n",
    "    :return: weight vector as a numpy array\n",
    "    '''\n",
    "    w = np.zeros(len(X[0]))\n",
    "    eta = 1\n",
    "    n = 30\n",
    "    errors = []\n",
    "\n",
    "    for t in range(n):\n",
    "        total_error = 0\n",
    "        for i, x in enumerate(X):\n",
    "            if (np.dot(X[i], w)*Y[i]) <= 0:\n",
    "                total_error += (np.dot(X[i], w)*Y[i])\n",
    "                w = w + eta*X[i]*Y[i]\n",
    "        errors.append(total_error*-1)\n",
    "        \n",
    "    plt.plot(errors)\n",
    "    plt.xlabel('Epoch')\n",
    "    plt.ylabel('Total Loss')\n",
    "    \n",
    "    return w\n",
    "\n",
    "\n",
    "print(perceptron_sgd_plot(X,y))"
   ]
  },
  {
   "cell_type": "markdown",
   "metadata": {
    "id": "mFy14PRRKkhC"
   },
   "source": [
    "## 2 Recurrent Neural Networks\n",
    "\n",
    "As illustrated in the above schematic illustrations, RNNs aims at better modeling temporal dependency by taking the input at the current time point (or *frame*) as well as the output (as extracted features or states if you may) from the past. \n",
    "\n",
    "Let's explain the key idea of RNN without getting too much details on the design of different recurrent neurons, for example, different **internal memory** as well as **update**, **forget**, and **state** gating mechanisms in GRU or LSTM. \n",
    "\n",
    "In essense, the prediction is made by aggregating the current and past information in RNNs. One of simple RNN is to have the following input-output relationship (transformation/mapping): \n",
    "$$ h_t = g(W_x x_t + W_h h_{t-1} + b), \\quad o_t = \\phi(h_t). $$\n",
    "Note the similarity of this formulation with both classical state-space models and other deep neural networks. \n",
    "\n",
    "With this basic understanding of the RNN architecture, we can see that training RNN can be similarly done by backpropagation as we explained for general ANNs. "
   ]
  },
  {
   "cell_type": "markdown",
   "metadata": {
    "id": "1gtmXt_sCQlS"
   },
   "source": [
    "<font color=red>Need a time-series example here, maybe from Hands-on ML?</font>\n",
    "\n",
    "https://towardsdatascience.com/recurrent-neural-networks-by-example-in-python-ffd204f99470\n",
    "\n",
    "https://github.com/jtao/AdvancedML/blob/main/Prediction_methods.ipynb"
   ]
  },
  {
   "cell_type": "markdown",
   "metadata": {},
   "source": [
    "## 3 Multi-Step LSTM Time Series Forecasting Models for Power Usage\n",
    "\n",
    "We use an example from [Jason Brownlee](https://machinelearningmastery.com/how-to-develop-lstm-models-for-multi-step-time-series-forecasting-of-household-power-consumption/) "
   ]
  },
  {
   "cell_type": "code",
   "execution_count": 19,
   "metadata": {},
   "outputs": [
    {
     "name": "stdout",
     "output_type": "stream",
     "text": [
      "(1442, 8)\n",
      "            Global_active_power  Global_reactive_power       Voltage  \\\n",
      "datetime                                                               \n",
      "2006-12-16          1209.176025              34.922001   93552.53125   \n",
      "2006-12-17          3390.459961             226.005997  345725.31250   \n",
      "2006-12-18          2203.825928             161.792007  347373.62500   \n",
      "2006-12-19          1666.193970             150.942001  348479.00000   \n",
      "2006-12-20          2225.748047             160.998001  348923.62500   \n",
      "\n",
      "            Global_intensity  Sub_metering_1  Sub_metering_2  Sub_metering_3  \\\n",
      "datetime                                                                       \n",
      "2006-12-16       5180.799805             0.0           546.0          4926.0   \n",
      "2006-12-17      14398.599609          2033.0          4187.0         13341.0   \n",
      "2006-12-18       9247.200195          1063.0          2621.0         14018.0   \n",
      "2006-12-19       7094.000000           839.0          7602.0          6197.0   \n",
      "2006-12-20       9313.000000             0.0          2648.0         14063.0   \n",
      "\n",
      "            sub_metering_4  \n",
      "datetime                    \n",
      "2006-12-16    14680.933594  \n",
      "2006-12-17    36946.667969  \n",
      "2006-12-18    19028.433594  \n",
      "2006-12-19    13131.900391  \n",
      "2006-12-20    20384.800781  \n"
     ]
    }
   ],
   "source": [
    "# load and clean-up data\n",
    "from numpy import nan\n",
    "from numpy import isnan\n",
    "from pandas import read_csv\n",
    "from pandas import to_numeric\n",
    "\n",
    "# fill missing values with a value at the same time one day ago\n",
    "def fill_missing(values):\n",
    "    one_day = 60 * 24\n",
    "    for row in range(values.shape[0]):\n",
    "        for col in range(values.shape[1]):\n",
    "            if isnan(values[row, col]):\n",
    "                values[row, col] = values[row - one_day, col]\n",
    "\n",
    "# load all data\n",
    "dataset = read_csv('datasets/household_power_consumption.txt', sep=';', header=0, low_memory=False, infer_datetime_format=True, parse_dates={'datetime':[0,1]}, index_col=['datetime'])\n",
    "# mark all missing values\n",
    "dataset.replace('?', nan, inplace=True)\n",
    "# make dataset numeric\n",
    "dataset = dataset.astype('float32')\n",
    "# fill missing\n",
    "fill_missing(dataset.values)\n",
    "# add a column for for the remainder of sub metering\n",
    "values = dataset.values\n",
    "dataset['sub_metering_4'] = (values[:,0] * 1000 / 60) - (values[:,4] + values[:,5] + values[:,6])\n",
    "\n",
    "# resample minute data to total for each day\n",
    "daily_groups = dataset.resample('D')\n",
    "daily_data = daily_groups.sum()\n",
    "# summarize\n",
    "print(daily_data.shape)\n",
    "print(daily_data.head())\n",
    "# save\n",
    "daily_data.to_csv('datasets/household_power_consumption_days.csv')"
   ]
  },
  {
   "cell_type": "code",
   "execution_count": 24,
   "metadata": {},
   "outputs": [],
   "source": [
    "# univariate multi-step lstm\n",
    "from math import sqrt\n",
    "from numpy import split\n",
    "from numpy import array\n",
    "from pandas import read_csv\n",
    "from sklearn.metrics import mean_squared_error\n",
    "from matplotlib import pyplot\n",
    "from tensorflow.keras.models import Sequential\n",
    "from tensorflow.keras.layers import Dense\n",
    "from tensorflow.keras.layers import Flatten\n",
    "from tensorflow.keras.layers import LSTM\n",
    "\n",
    "# split a univariate dataset into train/test sets\n",
    "def split_dataset(data):\n",
    "    # split into standard weeks\n",
    "    train, test = data[1:-328], data[-328:-6]\n",
    "    # restructure into windows of weekly data\n",
    "    train = array(split(train, len(train)/7))\n",
    "    test = array(split(test, len(test)/7))\n",
    "    return train, test\n",
    "\n",
    "# evaluate one or more weekly forecasts against expected values\n",
    "def evaluate_forecasts(actual, predicted):\n",
    "    scores = list()\n",
    "    # calculate an RMSE score for each day\n",
    "    for i in range(actual.shape[1]):\n",
    "        # calculate mse\n",
    "        mse = mean_squared_error(actual[:, i], predicted[:, i])\n",
    "        # calculate rmse\n",
    "        rmse = sqrt(mse)\n",
    "        # store\n",
    "        scores.append(rmse)\n",
    "    # calculate overall RMSE\n",
    "    s = 0\n",
    "    for row in range(actual.shape[0]):\n",
    "        for col in range(actual.shape[1]):\n",
    "            s += (actual[row, col] - predicted[row, col])**2\n",
    "    score = sqrt(s / (actual.shape[0] * actual.shape[1]))\n",
    "    return score, scores\n",
    "\n",
    "# summarize scores\n",
    "def summarize_scores(name, score, scores):\n",
    "    s_scores = ', '.join(['%.1f' % s for s in scores])\n",
    "    print('%s: [%.3f] %s' % (name, score, s_scores))\n",
    "\n",
    "# convert history into inputs and outputs\n",
    "def to_supervised(train, n_input, n_out=7):\n",
    "    # flatten data\n",
    "    data = train.reshape((train.shape[0]*train.shape[1], train.shape[2]))\n",
    "    X, y = list(), list()\n",
    "    in_start = 0\n",
    "    # step over the entire history one time step at a time\n",
    "    for _ in range(len(data)):\n",
    "        # define the end of the input sequence\n",
    "        in_end = in_start + n_input\n",
    "        out_end = in_end + n_out\n",
    "        # ensure we have enough data for this instance\n",
    "        if out_end <= len(data):\n",
    "            x_input = data[in_start:in_end, 0]\n",
    "            x_input = x_input.reshape((len(x_input), 1))\n",
    "            X.append(x_input)\n",
    "            y.append(data[in_end:out_end, 0])\n",
    "        # move along one time step\n",
    "        in_start += 1\n",
    "    return array(X), array(y)\n",
    "\n",
    "# train the model\n",
    "def build_model(train, n_input):\n",
    "    # prepare data\n",
    "    train_x, train_y = to_supervised(train, n_input)\n",
    "    # define parameters\n",
    "    verbose, epochs, batch_size = 0, 70, 16\n",
    "    n_timesteps, n_features, n_outputs = train_x.shape[1], train_x.shape[2], train_y.shape[1]\n",
    "    # define model\n",
    "    model = Sequential()\n",
    "    model.add(LSTM(200, activation='relu', input_shape=(n_timesteps, n_features)))\n",
    "    model.add(Dense(100, activation='relu'))\n",
    "    model.add(Dense(n_outputs))\n",
    "    model.compile(loss='mse', optimizer='adam')\n",
    "    # fit network\n",
    "    model.fit(train_x, train_y, epochs=epochs, batch_size=batch_size, verbose=verbose)\n",
    "    return model\n",
    "\n",
    "# make a forecast\n",
    "def forecast(model, history, n_input):\n",
    "    # flatten data\n",
    "    data = array(history)\n",
    "    data = data.reshape((data.shape[0]*data.shape[1], data.shape[2]))\n",
    "    # retrieve last observations for input data\n",
    "    input_x = data[-n_input:, 0]\n",
    "    # reshape into [1, n_input, 1]\n",
    "    input_x = input_x.reshape((1, len(input_x), 1))\n",
    "    # forecast the next week\n",
    "    yhat = model.predict(input_x, verbose=0)\n",
    "    # we only want the vector forecast\n",
    "    yhat = yhat[0]\n",
    "    return yhat\n",
    "\n",
    "# evaluate a single model\n",
    "def evaluate_model(train, test, n_input):\n",
    "    # fit model\n",
    "    model = build_model(train, n_input)\n",
    "    # history is a list of weekly data\n",
    "    history = [x for x in train]\n",
    "    # walk-forward validation over each week\n",
    "    predictions = list()\n",
    "    for i in range(len(test)):\n",
    "        # predict the week\n",
    "        yhat_sequence = forecast(model, history, n_input)\n",
    "        # store the predictions\n",
    "        predictions.append(yhat_sequence)\n",
    "        # get real observation and add to history for predicting the next week\n",
    "        history.append(test[i, :])\n",
    "    # evaluate predictions days for each week\n",
    "    predictions = array(predictions)\n",
    "    score, scores = evaluate_forecasts(test[:, :, 0], predictions)\n",
    "    return score, scores"
   ]
  },
  {
   "cell_type": "code",
   "execution_count": 23,
   "metadata": {},
   "outputs": [
    {
     "name": "stdout",
     "output_type": "stream",
     "text": [
      "lstm: [435.983] 451.5, 434.9, 400.3, 438.2, 418.3, 406.6, 495.0\n"
     ]
    },
    {
     "data": {
      "image/png": "[encoded data removed]",
      "text/plain": [
       "<Figure size 432x288 with 1 Axes>"
      ]
     },
     "metadata": {
      "needs_background": "light"
     },
     "output_type": "display_data"
    }
   ],
   "source": [
    "# load the new file\n",
    "dataset = read_csv('datasets/household_power_consumption_days.csv', header=0, infer_datetime_format=True, parse_dates=['datetime'], index_col=['datetime'])\n",
    "# split into train and test\n",
    "train, test = split_dataset(dataset.values)\n",
    "# evaluate model and get scores\n",
    "n_input = 14\n",
    "score, scores = evaluate_model(train, test, n_input)\n",
    "# summarize scores\n",
    "summarize_scores('lstm', score, scores)\n",
    "# plot scores\n",
    "days = ['sun', 'mon', 'tue', 'wed', 'thr', 'fri', 'sat']\n",
    "pyplot.plot(days, scores, marker='o', label='lstm')\n",
    "pyplot.show()"
   ]
  },
  {
   "cell_type": "markdown",
   "metadata": {
    "id": "TIXAscgbBLU5"
   },
   "source": [
    "## 4 Hands on exercise: the MNIST Handwritten Digits Recognition\n",
    "\n",
    "We use the `sklearn` built-in dataset on handwritten digits. This task is an example where k-NN works surprisingly well. \n",
    "\n",
    "Pictures here are 8x8 matrices (intensity of white color for each pixel). Then each such matrix is ​​\"unfolded\" into a vector of length 64, and we obtain a feature description of an object.\n"
   ]
  },
  {
   "cell_type": "code",
   "execution_count": null,
   "metadata": {
    "colab": {
     "base_uri": "https://localhost:8080/"
    },
    "executionInfo": {
     "elapsed": 373,
     "status": "ok",
     "timestamp": 1618608788352,
     "user": {
      "displayName": "Huiling Liao",
      "photoUrl": "",
      "userId": "15441174706399364198"
     },
     "user_tz": 300
    },
    "id": "9reryQs5BLU5",
    "outputId": "b7fe4118-1476-4fc8-8d22-54798bd71666"
   },
   "outputs": [
    {
     "data": {
      "text/plain": [
       "array([[ 0.,  0.,  5., 13.,  9.,  1.,  0.,  0.],\n",
       "       [ 0.,  0., 13., 15., 10., 15.,  5.,  0.],\n",
       "       [ 0.,  3., 15.,  2.,  0., 11.,  8.,  0.],\n",
       "       [ 0.,  4., 12.,  0.,  0.,  8.,  8.,  0.],\n",
       "       [ 0.,  5.,  8.,  0.,  0.,  9.,  8.,  0.],\n",
       "       [ 0.,  4., 11.,  0.,  1., 12.,  7.,  0.],\n",
       "       [ 0.,  2., 14.,  5., 10., 12.,  0.,  0.],\n",
       "       [ 0.,  0.,  6., 13., 10.,  0.,  0.,  0.]])"
      ]
     },
     "execution_count": 32,
     "metadata": {
      "tags": []
     },
     "output_type": "execute_result"
    }
   ],
   "source": [
    "from sklearn.datasets import load_digits\n",
    "\n",
    "data = load_digits()\n",
    "X, y = data.data, data.target\n",
    "\n",
    "X[0,:].reshape([8,8])"
   ]
  },
  {
   "cell_type": "code",
   "execution_count": null,
   "metadata": {
    "colab": {
     "base_uri": "https://localhost:8080/",
     "height": 242
    },
    "executionInfo": {
     "elapsed": 1102,
     "status": "ok",
     "timestamp": 1618608038652,
     "user": {
      "displayName": "Huiling Liao",
      "photoUrl": "",
      "userId": "15441174706399364198"
     },
     "user_tz": 300
    },
    "id": "JnRML5muBLU5",
    "outputId": "1acb543b-7e19-4338-e08e-b234eecbe23c"
   },
   "outputs": [
    {
     "data": {
      "image/png": "[encoded data removed]",
      "text/plain": [
       "<Figure size 1152x432 with 4 Axes>"
      ]
     },
     "metadata": {
      "needs_background": "light",
      "tags": []
     },
     "output_type": "display_data"
    }
   ],
   "source": [
    "# visualization of the digits data: the 8x8 matrices.\n",
    "f, axes = plt.subplots(1, 4, sharey=True, figsize=(16, 6))\n",
    "for i in range(4):\n",
    "    axes[i].imshow(X[i, :].reshape([8, 8]), cmap=\"Greys\");"
   ]
  },
  {
   "cell_type": "code",
   "execution_count": null,
   "metadata": {
    "id": "SKZBGjc2BLU6"
   },
   "outputs": [],
   "source": [
    "# randomly select 70% of the data as training dataset, 30% as testing dataset.\n",
    "X_train, X_test, y_train, y_test = train_test_split(X, y, test_size=0.3, random_state=17)"
   ]
  },
  {
   "cell_type": "code",
   "execution_count": null,
   "metadata": {
    "colab": {
     "base_uri": "https://localhost:8080/"
    },
    "executionInfo": {
     "elapsed": 599,
     "status": "ok",
     "timestamp": 1618608800155,
     "user": {
      "displayName": "Huiling Liao",
      "photoUrl": "",
      "userId": "15441174706399364198"
     },
     "user_tz": 300
    },
    "id": "u-2nQwevBLU6",
    "outputId": "75af063e-a8bc-4446-9ecb-6507a263350d"
   },
   "outputs": [
    {
     "name": "stdout",
     "output_type": "stream",
     "text": [
      "Accuracy of decision tree prediction =  0.7555555555555555\n",
      "Accuracy of random forest prediction =  0.9351851851851852\n",
      "Accuracy of KNN prediction =  0.9611111111111111\n"
     ]
    }
   ],
   "source": [
    "# run the KNNclassifier on the training data, and select k = 10\n",
    "# Create Classifier\n",
    "rfc = RandomForestClassifier(n_estimators = 100, max_depth = 5)\n",
    "dtc = DecisionTreeClassifier(criterion = \"entropy\", max_depth = 5)\n",
    "knn = neighbors.KNeighborsClassifier(n_neighbors = 20)\n",
    "\n",
    "# Train the model using the training sets y_pred=clf.predict(X_test)\n",
    "# predict on the testing data, and obtain the prediction accuracy\n",
    "rfc.fit(X_train, y_train)\n",
    "dtc.fit(X_train, y_train)\n",
    "knn.fit(X_train, y_train)\n",
    "rfc_pred = rfc.predict(X_test)\n",
    "dtc_pred = dtc.predict(X_test)\n",
    "knn_pred = knn.predict(X_test)\n",
    "\n",
    "# the accuracy of decision tree prediction\n",
    "print(\"Accuracy of decision tree prediction = \", accuracy_score(y_test, dtc_pred))\n",
    "# the accuracy of random forest prediction\n",
    "print(\"Accuracy of random forest prediction = \", accuracy_score(y_test, rfc_pred))\n",
    "# the accuracy of KNN prediction\n",
    "print(\"Accuracy of KNN prediction = \", accuracy_score(y_test,knn_pred))"
   ]
  },
  {
   "cell_type": "markdown",
   "metadata": {
    "id": "hAV9dTU_BLU6"
   },
   "source": []
  },
  {
   "cell_type": "markdown",
   "metadata": {
    "id": "qwQ8Yb-0h__O"
   },
   "source": [
    "## Reference \n",
    "* [Hands-on Machine Learning with Scikit-Learn and TensorFlow](https://github.com/ageron/handson-ml)\n",
    "* [Hands-on ML 2](https://github.com/ageron/handson-ml2) \n"
   ]
  },
  {
   "cell_type": "markdown",
   "metadata": {
    "id": "Jz7RJ9HgARGF"
   },
   "source": [
    "# Questions? "
   ]
  },
  {
   "cell_type": "code",
   "execution_count": null,
   "metadata": {
    "colab": {
     "base_uri": "https://localhost:8080/",
     "height": 55
    },
    "executionInfo": {
     "elapsed": 259,
     "status": "ok",
     "timestamp": 1617308485851,
     "user": {
      "displayName": "Xiaoning Qian",
      "photoUrl": "",
      "userId": "06431978792501680815"
     },
     "user_tz": 300
    },
    "id": "O1Y6HcZPBLU6",
    "outputId": "d3a36d59-a12a-47b8-ea8e-d94112f5658b"
   },
   "outputs": [
    {
     "data": {
      "text/html": [
       "<img src=\"https://mirrors.creativecommons.org/presskit/buttons/88x31/png/by-nc-sa.png\" width=\"100\"/>"
      ],
      "text/plain": [
       "<IPython.core.display.Image object>"
      ]
     },
     "execution_count": 20,
     "metadata": {
      "tags": []
     },
     "output_type": "execute_result"
    }
   ],
   "source": [
    "Image(url= \"https://mirrors.creativecommons.org/presskit/buttons/88x31/png/by-nc-sa.png\", width=100)\n"
   ]
  },
  {
   "cell_type": "code",
   "execution_count": null,
   "metadata": {
    "id": "euTnNjqSBLU6"
   },
   "outputs": [],
   "source": []
  }
 ],
 "metadata": {
  "celltoolbar": "Slideshow",
  "colab": {
   "collapsed_sections": [],
   "name": "Mod4-2-ML-SL-RecurrentNNs.ipynb",
   "provenance": []
  },
  "kernelspec": {
   "display_name": "Python 3",
   "language": "python",
   "name": "python3"
  },
  "language_info": {
   "codemirror_mode": {
    "name": "ipython",
    "version": 3
   },
   "file_extension": ".py",
   "mimetype": "text/x-python",
   "name": "python",
   "nbconvert_exporter": "python",
   "pygments_lexer": "ipython3",
   "version": "3.7.7"
  }
 },
 "nbformat": 4,
 "nbformat_minor": 1
}
